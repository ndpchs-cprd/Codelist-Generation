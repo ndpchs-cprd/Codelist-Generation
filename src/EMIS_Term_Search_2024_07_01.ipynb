{
 "cells": [
  {
   "cell_type": "code",
   "execution_count": 1,
   "id": "215e0238",
   "metadata": {},
   "outputs": [],
   "source": [
    "import os\n",
    "import pandas as pd\n",
    "import re\n",
    "\n",
    "# Hard-coded path to the EMIS Medical Dictionary file\n",
    "EMIS_DICTIONARY_PATH = 'path/to/your/emis_medical_dictionary_file.csv'\n",
    "DEFAULT_SAVE_PATH = os.path.dirname(EMIS_DICTIONARY_PATH)  # Default save path beside the EMIS file\n"
   ]
  },
  {
   "cell_type": "code",
   "execution_count": 2,
   "id": "bbc694fe",
   "metadata": {},
   "outputs": [],
   "source": [
    "def load_dataframe(file_path):\n",
    "    try:\n",
    "        # Determine the separator based on file extension\n",
    "        _, file_extension = os.path.splitext(file_path)\n",
    "        if file_extension.lower() == '.csv':\n",
    "            sep = ','\n",
    "        else:\n",
    "            sep = '\\t'\n",
    "        \n",
    "        df = pd.read_csv(file_path, sep=sep, on_bad_lines='skip')  # Using 'on_bad_lines' instead of 'error_bad_lines'\n",
    "        print(\"Columns in the file:\")\n",
    "        for i, col in enumerate(df.columns):\n",
    "            print(f\"{i}. {col}\")\n",
    "        col_idx = int(input(\"Enter the index number of the column to use: \"))\n",
    "        selected_col = df.columns[col_idx]\n",
    "        return df, selected_col\n",
    "    except Exception as e:\n",
    "        print(f\"An error occurred: {e}\")\n",
    "        return None, None\n"
   ]
  },
  {
   "cell_type": "code",
   "execution_count": 3,
   "id": "6e8ed198",
   "metadata": {},
   "outputs": [],
   "source": [
    "def get_search_terms():\n",
    "    choice = input(\"Would you like to (1) enter terms manually or (2) load terms from a file? Enter 1 or 2: \")\n",
    "    if choice == '1':\n",
    "        terms = input(\"Enter terms separated by commas: \").split(',')\n",
    "        terms = [term.strip().lower() for term in terms]\n",
    "    elif choice == '2':\n",
    "        file_path = input(\"Enter the path to the terms file: \").replace('\"', '')  # Remove any quotation marks\n",
    "        with open(file_path, 'r') as file:\n",
    "            content = file.read()\n",
    "            terms = content.splitlines()\n",
    "            terms = [term.strip().lower() for term in terms]\n",
    "    else:\n",
    "        print(\"Invalid input. Please enter 1 or 2.\")\n",
    "        return get_search_terms()\n",
    "    return terms\n"
   ]
  },
  {
   "cell_type": "code",
   "execution_count": 4,
   "id": "49008c3c",
   "metadata": {},
   "outputs": [],
   "source": [
    "def find_matches(df, col, terms):\n",
    "    pattern = '|'.join([re.escape(term) for term in terms]) \n",
    "    df['Matched Terms'] = df[col].apply(lambda x: ', '.join(set(term for term in terms if re.search(r'\\b' + re.escape(term) + r'\\b', x.lower()))))\n",
    "    matched_df = df[df['Matched Terms'] != '']\n",
    "    return matched_df\n"
   ]
  },
  {
   "cell_type": "code",
   "execution_count": 5,
   "id": "600f0384",
   "metadata": {},
   "outputs": [],
   "source": [
    "def apply_exclusion_terms(df, col):\n",
    "    exclusion_terms = input(\"Enter exclusion terms separated by commas (leave empty if none): \").split(',')\n",
    "    if exclusion_terms == ['']:\n",
    "        return df\n",
    "    exclusion_pattern = '|'.join([re.escape(term.strip().lower()) for term in exclusion_terms])\n",
    "    original_count = len(df)\n",
    "    df = df[~df[col].str.lower().apply(lambda x: bool(re.search(exclusion_pattern, x)))]\n",
    "    removed_count = original_count - len(df)\n",
    "    print(f\"Rows after exclusion: {len(df)}\")\n",
    "    print(f\"Rows removed: {removed_count}\")\n",
    "    return df\n"
   ]
  },
  {
   "cell_type": "code",
   "execution_count": 6,
   "id": "9d1a59a6",
   "metadata": {},
   "outputs": [],
   "source": [
    "def main():\n",
    "    terms = get_search_terms()\n",
    "\n",
    "    df1, col1 = load_dataframe(EMIS_DICTIONARY_PATH)\n",
    "    \n",
    "    if df1 is None:\n",
    "        return\n",
    "\n",
    "    matched_df = find_matches(df1, col1, terms)\n",
    "    print(f\"Initial matches found: {len(matched_df)}\")\n",
    "    if not matched_df.empty:\n",
    "        # Display a snapshot of initial matches and ask for exclusion terms\n",
    "        print(matched_df.head())  # Optionally display a few rows to help decide on exclusions\n",
    "        matched_df = apply_exclusion_terms(matched_df, col1)\n",
    "\n",
    "        # Ask user for save directory\n",
    "        save_directory = input(f\"Enter the directory to save the results (default: {DEFAULT_SAVE_PATH}): \").strip()\n",
    "        if save_directory == '':\n",
    "            save_directory = DEFAULT_SAVE_PATH\n",
    "        \n",
    "        if not os.path.exists(save_directory):\n",
    "            print(f\"The directory {save_directory} does not exist. Creating the directory.\")\n",
    "            os.makedirs(save_directory)\n",
    "        \n",
    "        default_filename = os.path.basename(EMIS_DICTIONARY_PATH).split('.')[0] + '_matched_results.csv'\n",
    "        filename = input(f\"Enter the filename for the saved results (default: {default_filename}): \").strip()\n",
    "        if filename == '':\n",
    "            filename = default_filename\n",
    "        elif not filename.endswith('.csv'):\n",
    "            filename += '.csv'  # Append .csv if not present\n",
    "        output_file_path = os.path.join(save_directory, filename)\n",
    "        \n",
    "        try:\n",
    "            matched_df.to_csv(output_file_path, index=False)\n",
    "            print(f\"Matched data saved to {output_file_path}\")\n",
    "        except PermissionError:\n",
    "            print(f\"Permission denied when trying to write to {output_file_path}. Please check your permissions.\")\n",
    "    else:\n",
    "        print(\"No matches found.\")\n"
   ]
  },
  {
   "cell_type": "code",
   "execution_count": 7,
   "id": "5e09fff6",
   "metadata": {},
   "outputs": [
    {
     "name": "stdout",
     "output_type": "stream",
     "text": [
      "Would you like to (1) enter terms manually or (2) load terms from a file? Enter 1 or 2: 1\n",
      "Enter terms separated by commas: femoral fracture, hip fracture, hypertension\n",
      "Columns in the file:\n",
      "0. Unnamed: 0\n",
      "1. Med_Code_Id\n",
      "2. Observations\n",
      "3. OriginalReadCode\n",
      "4. CleansedReadCode\n",
      "5. Term\n",
      "6. SNOMED_CT_Concept_ID\n",
      "7. SnomedCTDescriptionId\n",
      "8. Release\n",
      "9. EmisCodeCategoryId\n",
      "Enter the index number of the column to use: 5\n",
      "Initial matches found: 328\n",
      "      Unnamed: 0 Med_Code_Id  Observations OriginalReadCode CleansedReadCode  \\\n",
      "82            82    a3135013        300000             G201          G201.00   \n",
      "255          255    a8093016        400000            F4504          F450400   \n",
      "966          966   a28371017            90           L162-1          L162.11   \n",
      "1492        1492   a43850011         50000             G410          G410.00   \n",
      "1603        1603   a47076011          6000           G22z-1          G22z.11   \n",
      "\n",
      "                                               Term SNOMED_CT_Concept_ID  \\\n",
      "82                    Benign essential hypertension             b1201005   \n",
      "255                             Ocular hypertension             b4210003   \n",
      "966   Albuminuria in pregnancy without hypertension            b16756008   \n",
      "1492                Pulmonary arterial hypertension            b11399002   \n",
      "1603                             Renal hypertension            b38481006   \n",
      "\n",
      "     SnomedCTDescriptionId  Release  EmisCodeCategoryId Matched Terms  \n",
      "82                c3135013      NaN                  32  hypertension  \n",
      "255               c8093016      NaN                  32  hypertension  \n",
      "966              c28371017      NaN                  32  hypertension  \n",
      "1492           c2968228010      NaN                  32  hypertension  \n",
      "1603             c64282015      NaN                  32  hypertension  \n",
      "Enter exclusion terms separated by commas (leave empty if none): \n",
      "Files will be saved in the directory: C:\\Users\\mcken\\OneDrive\\My PC Folder\\Desktop\\Work\\CPRD\\Codelists\\CL Generator\\Codelist-Generation-main\\Codelist-Generation-main\\data\n",
      "Enter the filename for the saved results (default: EMISMedicalDictionary_2022_matched_results.csv): demo_fem_hyper\n",
      "Matched data saved to C:\\Users\\mcken\\OneDrive\\My PC Folder\\Desktop\\Work\\CPRD\\Codelists\\CL Generator\\Codelist-Generation-main\\Codelist-Generation-main\\data\\demo_fem_hyper.csv\n"
     ]
    }
   ],
   "source": [
    "if __name__ == \"__main__\":\n",
    "    main()\n"
   ]
  },
  {
   "cell_type": "code",
   "execution_count": null,
   "id": "938f2787",
   "metadata": {},
   "outputs": [],
   "source": []
  }
 ],
 "metadata": {
  "kernelspec": {
   "display_name": "Python 3 (ipykernel)",
   "language": "python",
   "name": "python3"
  },
  "language_info": {
   "codemirror_mode": {
    "name": "ipython",
    "version": 3
   },
   "file_extension": ".py",
   "mimetype": "text/x-python",
   "name": "python",
   "nbconvert_exporter": "python",
   "pygments_lexer": "ipython3",
   "version": "3.9.12"
  }
 },
 "nbformat": 4,
 "nbformat_minor": 5
}
